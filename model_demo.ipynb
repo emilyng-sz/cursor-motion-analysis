{
 "cells": [
  {
   "cell_type": "markdown",
   "metadata": {},
   "source": [
    "# Notebook to explore trained cursor model"
   ]
  },
  {
   "cell_type": "code",
   "execution_count": null,
   "metadata": {},
   "outputs": [],
   "source": [
    "# screen record a video of your cursor movements and save it in the data/video folder\n",
    "from cursor_detection.dataset_generation import generate_cursor_video\n",
    "generate_cursor_video(\"own_recording_test\")"
   ]
  },
  {
   "cell_type": "code",
   "execution_count": null,
   "metadata": {},
   "outputs": [],
   "source": [
    "# use pretrained yolov8 model to detect cursor movements\n",
    "from cursor_tracker.run import generate_results\n",
    "from ultralytics import YOLO\n",
    "\n",
    "model = YOLO(\"weights/cursor_class_best.pt\")\n",
    "results = generate_results(model, \"data/videos/own_recording_test.mp4\", max_det_1 = True)"
   ]
  },
  {
   "cell_type": "code",
   "execution_count": null,
   "metadata": {},
   "outputs": [],
   "source": [
    "# compare predictions vs ground truth\n",
    "from cursor_tracker.verify_results import compare_results\n",
    "compare_results(\"results/own_recording_test_max_detection.json\", \n",
    "                \"data/videos/own_recording_test.txt\")"
   ]
  }
 ],
 "metadata": {
  "kernelspec": {
   "display_name": "Python 3",
   "language": "python",
   "name": "python3"
  },
  "language_info": {
   "codemirror_mode": {
    "name": "ipython",
    "version": 3
   },
   "file_extension": ".py",
   "mimetype": "text/x-python",
   "name": "python",
   "nbconvert_exporter": "python",
   "pygments_lexer": "ipython3",
   "version": "3.11.4"
  }
 },
 "nbformat": 4,
 "nbformat_minor": 2
}
